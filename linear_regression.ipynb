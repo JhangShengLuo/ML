{
 "cells": [
  {
   "cell_type": "code",
   "execution_count": 4,
   "metadata": {
    "collapsed": true
   },
   "outputs": [],
   "source": [
    "import numpy as np\n",
    "import pandas as pd\n",
    "import matplotlib.pyplot as plt\n",
    "import scipy.stats as st\n",
    "from sklearn import datasets, linear_model\n",
    "%matplotlib inline\n",
    "from sklearn import preprocessing"
   ]
  },
  {
   "cell_type": "code",
   "execution_count": null,
   "metadata": {
    "collapsed": true
   },
   "outputs": [],
   "source": []
  },
  {
   "cell_type": "code",
   "execution_count": 24,
   "metadata": {
    "collapsed": false
   },
   "outputs": [
    {
     "name": "stdout",
     "output_type": "stream",
     "text": [
      "256536\n",
      "85512\n",
      "-2.16317605972 seconds\n"
     ]
    }
   ],
   "source": [
    "oli = pd.read_csv('cleanoutwvd.csv')\n",
    "olier = oli.copy();\n",
    "#去掉當量暫時不用\n",
    "\n",
    "# olier.speed=(olier.speed);olier\n",
    "# olier.YY=olier.YY-16;\n",
    "olier=olier.drop(['YY','day','date','time','direct','lane','eqflow','fakeornot','realvd'],axis=1);olier\n",
    "# olier['serial'] = olier.index\n",
    "\n",
    "# mean zero 標準化\n",
    "olier = preprocessing.scale(olier)\n",
    "\n",
    "\n",
    "# max min 標準化\n",
    "# scaler = MinMaxScaler(feature_range=(0, 1))\n",
    "# olier = scaler.fit_transform(olier)\n",
    "olierc=pd.DataFrame(olier,columns=['sortby','speed','accu'])\n",
    "\n",
    "\n",
    "olierclo = olierc.columns.tolist()\n",
    "olierc=olierc[olierclo[:-2]+olierclo[-1:]+olierclo[-2:-1]]\n",
    "\n",
    "spdf = olierc['speed']\n",
    "acdf = olierc[['accu','sortby']]\n",
    "\n",
    "\n",
    "def cleanout(inp,i):\n",
    "    dfvdi= inp.where(inp['sortby']==i).dropna();\n",
    "\n",
    "    outp = dfvdi.copy()\n",
    "    # 某個時間要把fakeornot去掉 \n",
    "    outpp = outp.values.astype('float32')\n",
    "    # 分出train 跟test\n",
    "    train_size = int(len(outpp) * 0.75)\n",
    "    test_size = len(outpp) - train_size\n",
    "    train, test = outpp[0:train_size,:], outpp[train_size:len(outpp),:]\n",
    "    if (len(train)%168 != 0) or (len(test)%168 != 0) :\n",
    "        train=train[:-(len(train)%168)]\n",
    "        test=test[:-(len(test)%168)]\n",
    "        \n",
    "    return train,test\n",
    "\n",
    "\n",
    "import time\n",
    "start = time.time()\n",
    "\n",
    "sortbylist=olierc['sortby'].unique().tolist()\n",
    "tralist = []\n",
    "teslist = []\n",
    "\n",
    "for i in sortbylist:\n",
    "    temptra,temptes=cleanout(olierc,i)\n",
    "    #train\n",
    "    for ele in temptra.tolist():\n",
    "        tralist.append(ele)\n",
    "    #test\n",
    "    for ele3 in temptes.tolist():\n",
    "        teslist.append(ele3)\n",
    "\n",
    "cluster01tra=np.array(tralist)\n",
    "print len(cluster01tra)\n",
    "cluster01tes=np.array(teslist)\n",
    "print len(cluster01tes)\n",
    "print(start - time.time()),'seconds'\n",
    "\n",
    "\n"
   ]
  },
  {
   "cell_type": "code",
   "execution_count": 22,
   "metadata": {
    "collapsed": false
   },
   "outputs": [
    {
     "data": {
      "text/plain": [
       "array([-0.80341251, -0.7707765 , -0.7657401 , ...,  2.34815568,\n",
       "        2.3981197 ,  2.53931618])"
      ]
     },
     "execution_count": 22,
     "metadata": {},
     "output_type": "execute_result"
    }
   ],
   "source": [
    "\n",
    "# len(olierc.speed.values)\n",
    "regr = linear_model.LinearRegression()\n",
    "\n",
    "regr.fit(olierc,spdf )\n",
    "regr.predict(olierc)\n",
    "\n",
    "regr.predict(olierc)"
   ]
  },
  {
   "cell_type": "code",
   "execution_count": 23,
   "metadata": {
    "collapsed": false
   },
   "outputs": [
    {
     "data": {
      "text/plain": [
       "0        -0.803413\n",
       "1        -0.770776\n",
       "2        -0.765740\n",
       "3        -0.922247\n",
       "4        -0.809791\n",
       "5        -1.087791\n",
       "6        -0.766594\n",
       "7        -1.026348\n",
       "8        -1.048489\n",
       "9        -0.978666\n",
       "10       -1.102152\n",
       "11       -1.263971\n",
       "12       -1.353468\n",
       "13       -1.332901\n",
       "14       -1.338600\n",
       "15       -1.199311\n",
       "16       -1.212659\n",
       "17       -1.330866\n",
       "18       -1.464137\n",
       "19       -1.264144\n",
       "20       -1.122295\n",
       "21       -1.226237\n",
       "22       -1.064998\n",
       "23       -1.026454\n",
       "24       -0.762328\n",
       "25       -1.014196\n",
       "26       -0.704204\n",
       "27       -0.817605\n",
       "28       -1.101224\n",
       "29       -0.720169\n",
       "            ...   \n",
       "350573    2.058006\n",
       "350574    2.105457\n",
       "350575    2.306600\n",
       "350576    2.346546\n",
       "350577    2.344158\n",
       "350578    2.447533\n",
       "350579    2.413301\n",
       "350580    2.481965\n",
       "350581    2.075776\n",
       "350582    2.593156\n",
       "350583    2.577240\n",
       "350584    2.540799\n",
       "350585    2.416906\n",
       "350586    2.498433\n",
       "350587    2.131436\n",
       "350588    2.220213\n",
       "350589    2.206668\n",
       "350590    2.276956\n",
       "350591    2.320909\n",
       "350592    2.326327\n",
       "350593    2.367661\n",
       "350594    2.323077\n",
       "350595    2.280204\n",
       "350596    2.363893\n",
       "350597    2.226896\n",
       "350598    2.007994\n",
       "350599    2.266164\n",
       "350600    2.348156\n",
       "350601    2.398120\n",
       "350602    2.539316\n",
       "Name: speed, dtype: float64"
      ]
     },
     "execution_count": 23,
     "metadata": {},
     "output_type": "execute_result"
    }
   ],
   "source": []
  },
  {
   "cell_type": "code",
   "execution_count": null,
   "metadata": {
    "collapsed": true
   },
   "outputs": [],
   "source": [
    "\n",
    "\n",
    "\n",
    "\n",
    "regr = linear_model.LinearRegression()\n",
    "regr.fit(input_X_vars, input_Y_vars)\n",
    "\n",
    "# test_X_vars = [1435688681, 1435688685]\n",
    "\n",
    "results = regr.predict(test_X_vars)\n",
    "\n",
    "# forecast_append = {\"target\": \"Lower\", \"datapoints\": results}\n",
    "\n",
    "# time_series.append(forecast_append)"
   ]
  },
  {
   "cell_type": "code",
   "execution_count": null,
   "metadata": {
    "collapsed": true
   },
   "outputs": [],
   "source": []
  },
  {
   "cell_type": "code",
   "execution_count": null,
   "metadata": {
    "collapsed": true
   },
   "outputs": [],
   "source": []
  },
  {
   "cell_type": "code",
   "execution_count": null,
   "metadata": {
    "collapsed": true
   },
   "outputs": [],
   "source": []
  },
  {
   "cell_type": "code",
   "execution_count": null,
   "metadata": {
    "collapsed": true
   },
   "outputs": [],
   "source": []
  },
  {
   "cell_type": "code",
   "execution_count": null,
   "metadata": {
    "collapsed": true
   },
   "outputs": [],
   "source": []
  },
  {
   "cell_type": "code",
   "execution_count": null,
   "metadata": {
    "collapsed": true
   },
   "outputs": [],
   "source": []
  },
  {
   "cell_type": "code",
   "execution_count": null,
   "metadata": {
    "collapsed": true
   },
   "outputs": [],
   "source": []
  },
  {
   "cell_type": "code",
   "execution_count": null,
   "metadata": {
    "collapsed": true
   },
   "outputs": [],
   "source": []
  },
  {
   "cell_type": "code",
   "execution_count": 41,
   "metadata": {
    "collapsed": true
   },
   "outputs": [],
   "source": [
    "ml =pd.read_csv('/Users/Jackie/Desktop/ML/mltest.csv')"
   ]
  },
  {
   "cell_type": "code",
   "execution_count": 48,
   "metadata": {
    "collapsed": false
   },
   "outputs": [],
   "source": [
    "# ml.describe()"
   ]
  },
  {
   "cell_type": "code",
   "execution_count": 68,
   "metadata": {
    "collapsed": false
   },
   "outputs": [],
   "source": [
    "# ml.ix[:,['當量']].plot()\n",
    "mleq =ml.ix[:,['當量']].copy()"
   ]
  },
  {
   "cell_type": "code",
   "execution_count": 123,
   "metadata": {
    "collapsed": false
   },
   "outputs": [
    {
     "data": {
      "text/plain": [
       "eq    25.5\n",
       "dtype: float64"
      ]
     },
     "execution_count": 123,
     "metadata": {},
     "output_type": "execute_result"
    }
   ],
   "source": [
    "\n",
    "mx=mleq.max()\n",
    "\n",
    "mn=mleq.min()\n",
    "mn"
   ]
  },
  {
   "cell_type": "code",
   "execution_count": 116,
   "metadata": {
    "collapsed": false
   },
   "outputs": [],
   "source": [
    "mleq.columns=['eq']"
   ]
  },
  {
   "cell_type": "code",
   "execution_count": 134,
   "metadata": {
    "collapsed": false
   },
   "outputs": [],
   "source": [
    "yeq = mleq['eq'].tolist()"
   ]
  },
  {
   "cell_type": "code",
   "execution_count": 165,
   "metadata": {
    "collapsed": true
   },
   "outputs": [],
   "source": [
    "xeq = np.array(range(0,149))\n"
   ]
  },
  {
   "cell_type": "code",
   "execution_count": 174,
   "metadata": {
    "collapsed": false
   },
   "outputs": [],
   "source": [
    "x_treq = np.linspace(0,151,200)\n",
    "y_treq = np.linspace(20,900,900)"
   ]
  },
  {
   "cell_type": "code",
   "execution_count": 175,
   "metadata": {
    "collapsed": false
   },
   "outputs": [
    {
     "data": {
      "text/plain": [
       "[<matplotlib.lines.Line2D at 0x11cd1d990>]"
      ]
     },
     "execution_count": 175,
     "metadata": {},
     "output_type": "execute_result"
    },
    {
     "data": {
      "image/png": "[encoded data removed]",
      "text/plain": [
       "<matplotlib.figure.Figure at 0x11def5510>"
      ]
     },
     "metadata": {},
     "output_type": "display_data"
    }
   ],
   "source": [
    "plt.plot(x_treq[:10], y_treq[:10] )\n",
    "plt.plot(xeq, yeq, 'ok', ms=5)"
   ]
  },
  {
   "cell_type": "code",
   "execution_count": 181,
   "metadata": {
    "collapsed": false
   },
   "outputs": [],
   "source": [
    "# We create the model.\n",
    "lreq = lm.LinearRegression()\n",
    "# We train the model on our training dataset.\n",
    "lreq.fit(xeq[:, np.newaxis], yeq)\n",
    "# Now, we predict points with our trained model.\n",
    "y_lreq = lreq.predict(x_treq[:, np.newaxis])\n"
   ]
  },
  {
   "cell_type": "code",
   "execution_count": 182,
   "metadata": {
    "collapsed": false
   },
   "outputs": [
    {
     "data": {
      "text/plain": [
       "<matplotlib.text.Text at 0x11df084d0>"
      ]
     },
     "execution_count": 182,
     "metadata": {},
     "output_type": "execute_result"
    },
    {
     "data": {
      "image/png": "[encoded data removed]",
      "text/plain": [
       "<matplotlib.figure.Figure at 0x11b2cb7d0>"
      ]
     },
     "metadata": {},
     "output_type": "display_data"
    }
   ],
   "source": [
    "plt.plot(x_treq[:10], y_treq[:10], '--k')\n",
    "plt.plot(x_treq, y_lreq, 'r')\n",
    "plt.plot(xeq, yeq, 'ok', ms=5)\n",
    "plt.xlim(0, 200)\n",
    "plt.ylim(20, 900)\n",
    "plt.title(\"Linear regression\")"
   ]
  },
  {
   "cell_type": "code",
   "execution_count": null,
   "metadata": {
    "collapsed": true
   },
   "outputs": [],
   "source": []
  },
  {
   "cell_type": "code",
   "execution_count": null,
   "metadata": {
    "collapsed": true
   },
   "outputs": [],
   "source": []
  },
  {
   "cell_type": "code",
   "execution_count": 91,
   "metadata": {
    "collapsed": false
   },
   "outputs": [],
   "source": [
    "# xeq"
   ]
  },
  {
   "cell_type": "code",
   "execution_count": 143,
   "metadata": {
    "collapsed": true
   },
   "outputs": [],
   "source": [
    "f = lambda x: np.exp(3 * x)\n"
   ]
  },
  {
   "cell_type": "code",
   "execution_count": null,
   "metadata": {
    "collapsed": false
   },
   "outputs": [],
   "source": []
  },
  {
   "cell_type": "code",
   "execution_count": 144,
   "metadata": {
    "collapsed": false
   },
   "outputs": [],
   "source": [
    "x_tr = np.linspace(0., 2, 200)\n",
    "y_tr = f(x_tr)"
   ]
  },
  {
   "cell_type": "code",
   "execution_count": 145,
   "metadata": {
    "collapsed": true
   },
   "outputs": [],
   "source": [
    "x = np.array([0, .1, .2, .5, .8, .9, 1])\n",
    "y = f(x) + np.random.randn(len(x))"
   ]
  },
  {
   "cell_type": "code",
   "execution_count": 150,
   "metadata": {
    "collapsed": false
   },
   "outputs": [
    {
     "data": {
      "text/plain": [
       "[<matplotlib.lines.Line2D at 0x11be70250>]"
      ]
     },
     "execution_count": 150,
     "metadata": {},
     "output_type": "execute_result"
    },
    {
     "data": {
      "image/png": "[encoded data removed]",
      "text/plain": [
       "<matplotlib.figure.Figure at 0x11be70210>"
      ]
     },
     "metadata": {},
     "output_type": "display_data"
    }
   ],
   "source": [
    "plt.plot(x_tr[:100], y_tr[:100],'--k')\n",
    "plt.plot(x, y, 'ok', ms=10)"
   ]
  },
  {
   "cell_type": "code",
   "execution_count": 18,
   "metadata": {
    "collapsed": true
   },
   "outputs": [],
   "source": [
    "# We create the model.\n",
    "lr = lm.LinearRegression()\n",
    "# We train the model on our training dataset.\n",
    "lr.fit(x[:, np.newaxis], y)\n",
    "# Now, we predict points with our trained model.\n",
    "y_lr = lr.predict(x_tr[:, np.newaxis])\n"
   ]
  },
  {
   "cell_type": "code",
   "execution_count": 23,
   "metadata": {
    "collapsed": false
   },
   "outputs": [],
   "source": [
    "# help(np.exp)"
   ]
  },
  {
   "cell_type": "code",
   "execution_count": 171,
   "metadata": {
    "collapsed": false
   },
   "outputs": [
    {
     "data": {
      "text/plain": [
       "<matplotlib.text.Text at 0x11c905690>"
      ]
     },
     "execution_count": 171,
     "metadata": {},
     "output_type": "execute_result"
    },
    {
     "data": {
      "image/png": "[encoded data removed]",
      "text/plain": [
       "<matplotlib.figure.Figure at 0x11def5250>"
      ]
     },
     "metadata": {},
     "output_type": "display_data"
    }
   ],
   "source": [
    "plt.plot(x_tr, y_tr, '--k')\n",
    "plt.plot(x_tr, y_lr, 'g')\n",
    "plt.plot(x, y, 'ok', ms=10)\n",
    "plt.xlim(0, 1)\n",
    "plt.ylim(y.min()-1, y.max()+1)\n",
    "plt.title(\"Linear regression\")"
   ]
  },
  {
   "cell_type": "code",
   "execution_count": null,
   "metadata": {
    "collapsed": true
   },
   "outputs": [],
   "source": []
  }
 ],
 "metadata": {
  "anaconda-cloud": {},
  "kernelspec": {
   "display_name": "Python [Root]",
   "language": "python",
   "name": "Python [Root]"
  },
  "language_info": {
   "codemirror_mode": {
    "name": "ipython",
    "version": 2
   },
   "file_extension": ".py",
   "mimetype": "text/x-python",
   "name": "python",
   "nbconvert_exporter": "python",
   "pygments_lexer": "ipython2",
   "version": "2.7.12"
  }
 },
 "nbformat": 4,
 "nbformat_minor": 0
}
