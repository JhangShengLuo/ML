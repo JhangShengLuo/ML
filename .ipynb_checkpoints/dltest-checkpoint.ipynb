{
 "cells": [
  {
   "cell_type": "code",
   "execution_count": 285,
   "metadata": {
    "collapsed": false
   },
   "outputs": [],
   "source": [
    "# -*- coding: utf-8 -*-\n",
    "import pandas as pd\n",
    "import matplotlib.pyplot as plt\n",
    "import scipy.stats as st\n",
    "import sklearn.linear_model as lm\n",
    "import numpy as np\n",
    "np.random.seed(888)\n",
    "from keras.models import Sequential,load_model,Model\n",
    "from keras.layers import Dense,Reshape,Dropout\n",
    "from keras.layers.advanced_activations import LeakyReLU,PReLU\n",
    "# from keras.callbacks import EarlyStopping\n",
    "# earlyStopping=EarlyStopping(monitor='val_loss',patience =3)\n",
    "from keras.regularizers import l1,l2\n",
    "from keras.constraints import nonneg\n",
    "\n",
    "%matplotlib inline\n",
    "import tensorflow\n",
    "import keras\n",
    "import math\n",
    "import time\n",
    "import datetime\n",
    "from sklearn import cluster, datasets, metrics\n",
    "\n"
   ]
  },
  {
   "cell_type": "code",
   "execution_count": 259,
   "metadata": {
    "collapsed": false
   },
   "outputs": [
    {
     "name": "stdout",
     "output_type": "stream",
     "text": [
      "307944\n",
      "34104\n",
      "-1.78468108177 seconds\n"
     ]
    }
   ],
   "source": [
    "oli = pd.read_csv('cleanoutwvd.csv')\n",
    "olier = oli.copy();\n",
    "#去掉當量暫時不用\n",
    "\n",
    "# olier.speed=(olier.speed);olier\n",
    "# olier.YY=olier.YY-16;\n",
    "olier=olier.drop(['YY','day','date','time','direct','lane','eqflow','fakeornot','realvd'],axis=1);olier\n",
    "# olier['serial'] = olier.index\n",
    "\n",
    "olierc = olier.copy()\n",
    "somin = olier.sortby.min().copy()\n",
    "somax = olier.sortby.max().copy()-somin;\n",
    "olierc.sortby = ((olierc.sortby-somin)/(somax));olierc\n",
    "\n",
    "\n",
    "#佔有率標準化\n",
    "dfmin = olier.accu.min().copy()\n",
    "mxmin = olier.accu.max().copy()-dfmin;\n",
    "olierc.accu = ((olierc.accu-dfmin)/(mxmin));olierc\n",
    "\n",
    "#佔有率標準化\n",
    "\n",
    "dfminspeed = olier.speed.min().copy()\n",
    "mxminspeed = olier.speed.max().copy()-dfminspeed;\n",
    "olierc.speed = ((olierc.speed-dfminspeed)/(mxminspeed));olierc\n",
    "\n",
    "\n",
    "# move accu to the end\n",
    "# olierclo = olier.columns.tolist()\n",
    "\n",
    "# speed\n",
    "# olier=olier[olierclo[:-2]+olierclo[-1:]+olierclo[-2:-1]]\n",
    "# olier= olier[olierclo[-1:]+olierclo[:1]+olierclo[2:3]+olierclo[1:2]]; # 有serial時的speed\n",
    "\n",
    "#0225version\n",
    "def cleanout(inp,i):\n",
    "    dfvdi= inp.where(inp['sortby']==i).dropna();\n",
    "\n",
    "    outp = dfvdi.copy()\n",
    "    # 某個時間要把fakeornot去掉 \n",
    "    outpp = outp.values.astype('float32')\n",
    "    # 分出train 跟test\n",
    "    train_size = int(len(outpp) * 0.9)\n",
    "    test_size = len(outpp) - train_size\n",
    "    train, test = outpp[0:train_size,:], outpp[train_size:len(outpp),:]\n",
    "    if (len(train)%168 != 0) or (len(test)%168 != 0) :\n",
    "        train=train[:-(len(train)%168)]\n",
    "        test=test[:-(len(test)%168)]\n",
    "        \n",
    "    return train,test\n",
    "\n",
    "\n",
    "import time\n",
    "start = time.time()\n",
    "\n",
    "sortbylist=olierc['sortby'].unique().tolist()\n",
    "tralist = []\n",
    "teslist = []\n",
    "\n",
    "for i in sortbylist:\n",
    "    temptra,temptes=cleanout(olierc,i)\n",
    "    #train\n",
    "    for ele in temptra.tolist():\n",
    "        tralist.append(ele)\n",
    "    #test\n",
    "    for ele3 in temptes.tolist():\n",
    "        teslist.append(ele3)\n",
    "\n",
    "cluster01tra=np.array(tralist)\n",
    "print len(cluster01tra)\n",
    "cluster01tes=np.array(teslist)\n",
    "print len(cluster01tes)\n",
    "print(start - time.time()),'seconds'\n",
    "\n"
   ]
  },
  {
   "cell_type": "code",
   "execution_count": 58,
   "metadata": {
    "collapsed": false
   },
   "outputs": [],
   "source": [
    "# olierc"
   ]
  },
  {
   "cell_type": "code",
   "execution_count": null,
   "metadata": {
    "collapsed": true
   },
   "outputs": [],
   "source": []
  },
  {
   "cell_type": "code",
   "execution_count": 293,
   "metadata": {
    "collapsed": false
   },
   "outputs": [
    {
     "name": "stdout",
     "output_type": "stream",
     "text": [
      "(307944, 34104)\n",
      "Train Score: 0.00 MSE (0.03 RMSE)\n",
      "Test Score: 0.01 MSE (0.08 RMSE)\n",
      "-54.2053771019 seconds\n"
     ]
    }
   ],
   "source": [
    "import time\n",
    "start = time.time()\n",
    "#起始隨機子\n",
    "np.random.seed(888)\n",
    "# convert an array of values into a dataset matrix\n",
    "def create_dataset(dataset, look_back):\n",
    "    dataX, dataY = [], []\n",
    "    for i in range(0,len(dataset)-look_back-1,look_back):\n",
    "        a = dataset[i:(i+look_back), 0:nort]\n",
    "        dataX.append(a)\n",
    "        dataY.append(dataset[i + look_back:i+look_back+look_back, nort-1])\n",
    "#     return dataX,dataY\n",
    "    return np.array(dataX), np.array(dataY)\n",
    "\n",
    "# 看資料有幾個欄位就寫幾\n",
    "nort = 3\n",
    "# magic number\n",
    "look_back = 168\n",
    "# cut off remainder\n",
    "train = cluster01tra\n",
    "test = cluster01tes\n",
    "# check data lenth when cut off remainder\n",
    "print(len(train), len(test))\n",
    "\n",
    "# seperate data to input\"X\" and output\"Y\"\n",
    "trainX, trainY = create_dataset(train, look_back)\n",
    "testX, testY = create_dataset(test, look_back)\n",
    "    \n",
    "# create and fit Multilayer Perceptron model\n",
    "model = Sequential()\n",
    "# model = Model(input=look_back*nort,output=[look_back,2])\n",
    "\n",
    "# RESHAPE is  working !!!!! >0<\"\n",
    "model.add(Reshape((look_back*nort,), input_shape=(look_back,nort)))\n",
    "\n",
    "# Add layers to neruon network\n",
    "# model.add(Dropout(0.3))\n",
    "model.add(Dense(1,input_dim=(look_back*nort), activation='relu'))\n",
    "model.add(PReLU())\n",
    "model.add(Dense(256, init='uniform',W_regularizer = l2(0.000017), activation='relu'))\n",
    "model.add(PReLU())\n",
    "# model.add(Dropout(0.2))\n",
    "model.add(Dense(look_back, activation='linear',W_regularizer = l2(0.000017)))\n",
    "model.compile(loss='mse', optimizer='adam')\n",
    "\n",
    "# ,metrics=['accuracy']\n",
    "\n",
    "model.fit(trainX, trainY, nb_epoch=256, batch_size=256, verbose=0)\n",
    "\n",
    "\n",
    "#,validation_split=0.3,callbacks=[earlyStopping]\n",
    "\n",
    "# Estimate model performance\n",
    "trainScore = model.evaluate(trainX, trainY, verbose=0)\n",
    "# print('Train Score: %.2f MAPE ' % trainScore)\n",
    "print('Train Score: %.2f MSE (%.2f RMSE)' % (trainScore, math.sqrt(trainScore)))\n",
    "# print(\"Train Score: %.2f CCE\" % (trainScore))\n",
    "testScore = model.evaluate(testX, testY, verbose=0)\n",
    "# print('Test Score: %.2f MAPE ' % testScore)\n",
    "print('Test Score: %.2f MSE (%.2f RMSE)' % (testScore, math.sqrt(testScore)))\n",
    "# print(\"Test Score: %.2f CCE\" % (testScore))\n",
    "\n",
    "\n",
    "print(start - time.time()),'seconds'\n"
   ]
  },
  {
   "cell_type": "code",
   "execution_count": 234,
   "metadata": {
    "collapsed": false
   },
   "outputs": [],
   "source": [
    "model.save('model0303.h5')"
   ]
  },
  {
   "cell_type": "code",
   "execution_count": 294,
   "metadata": {
    "collapsed": false
   },
   "outputs": [
    {
     "name": "stdout",
     "output_type": "stream",
     "text": [
      "0.0691914\n",
      "0.071736746059\n",
      "0.0567739\n",
      "0.0763215234881\n"
     ]
    },
    {
     "data": {
      "text/plain": [
       "[<matplotlib.lines.Line2D at 0x2bf010f90>]"
      ]
     },
     "execution_count": 294,
     "metadata": {},
     "output_type": "execute_result"
    },
    {
     "data": {
      "image/png": "[encoded data removed]",
      "text/plain": [
       "<matplotlib.figure.Figure at 0x2a1f5b450>"
      ]
     },
     "metadata": {},
     "output_type": "display_data"
    }
   ],
   "source": [
    "trainPredict = model.predict(trainX)\n",
    "testPredict = model.predict(testX)\n",
    "\n",
    "# pre = trainPredict.reshape(len(trainPredict)*len(trainPredict[0]),)\n",
    "# ori = trainY.reshape(len(trainY)*len(trainY[0]),)\n",
    "\n",
    "\n",
    "pre = testPredict.reshape(len(testPredict)*len(testPredict[0]),)\n",
    "ori = testY.reshape(len(testY)*len(testY[0]),)\n",
    "\n",
    "\n",
    "print pre.mean()\n",
    "print ori.mean()\n",
    "print pre.std()\n",
    "print ori.std()\n",
    "\n",
    "\n",
    "\n",
    "\n",
    "plt.plot(pre,color='r')\n",
    "plt.plot(ori,color='g')\n",
    "plt.plot(pre,color='r')\n",
    "# plt.plot(pre[16800:16968],color='r')\n",
    "\n",
    "# plt.plot(ori[16800:16968],color='g')\n",
    "\n"
   ]
  },
  {
   "cell_type": "code",
   "execution_count": 205,
   "metadata": {
    "collapsed": false
   },
   "outputs": [
    {
     "data": {
      "text/plain": [
       "[<matplotlib.lines.Line2D at 0x22cc62ed0>]"
      ]
     },
     "execution_count": 205,
     "metadata": {},
     "output_type": "execute_result"
    },
    {
     "data": {
      "image/png": "[encoded data removed]",
      "text/plain": [
       "<matplotlib.figure.Figure at 0x237238310>"
      ]
     },
     "metadata": {},
     "output_type": "display_data"
    }
   ],
   "source": [
    "plt.plot(pre,color='r')"
   ]
  },
  {
   "cell_type": "code",
   "execution_count": null,
   "metadata": {
    "collapsed": true
   },
   "outputs": [],
   "source": []
  }
 ],
 "metadata": {
  "anaconda-cloud": {},
  "kernelspec": {
   "display_name": "Python [Root]",
   "language": "python",
   "name": "Python [Root]"
  },
  "language_info": {
   "codemirror_mode": {
    "name": "ipython",
    "version": 2
   },
   "file_extension": ".py",
   "mimetype": "text/x-python",
   "name": "python",
   "nbconvert_exporter": "python",
   "pygments_lexer": "ipython2",
   "version": "2.7.12"
  }
 },
 "nbformat": 4,
 "nbformat_minor": 1
}
